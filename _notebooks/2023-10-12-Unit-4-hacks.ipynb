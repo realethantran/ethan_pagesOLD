{
  "cells": [
    {
      "cell_type": "markdown",
      "metadata": {
        "id": "H2owDd1giFbL"
      },
      "source": [
        "---\n",
        "toc: true\n",
        "comments: true\n",
        "layout: post\n",
        "title: U4 | Iteration\n",
        "description: while Loops, for Loops, Developing Algorithms Using Strings, Nested Iteration, Informal code analysis >>> AP Exam Weighting 17.5-22.5%\n",
        "type: hacks\n",
        "courses: { csa: {week: 8} }\n",
        "author: Aliya, Ekam, Emma, Raunak, Luna\n",
        "---"
      ]
    },
    {
      "cell_type": "markdown",
      "metadata": {
        "id": "BZAHKL8giFbO"
      },
      "source": [
        "# U4 | Iteration"
      ]
    },
    {
      "cell_type": "markdown",
      "metadata": {
        "id": "n5DwvzKDiFbO"
      },
      "source": [
        "---"
      ]
    },
    {
      "cell_type": "markdown",
      "metadata": {
        "id": "tz_lOIHhiFbP"
      },
      "source": [
        "# 4.1 while Loops"
      ]
    },
    {
      "cell_type": "markdown",
      "metadata": {
        "id": "WWocj22RiFbP"
      },
      "source": [
        "---"
      ]
    },
    {
      "cell_type": "markdown",
      "metadata": {
        "id": "8LcvRRKgiGt8"
      },
      "source": [
        "- A while loop is a fundamental control structure in programming used for repeated execution of a block of code as long as a condition is true.\n",
        "- The loop starts by evaluating the condition. If the condition is true, the code inside the loop is executed.\n",
        "- After each iteration, the condition is re-evaluated, and if it's still true, the loop continues.\n",
        "If the condition is false initially, the loop code is never executed.\n",
        "- While loops are used when you don't know in advance how many times the loop needs to execute.\n",
        "- There's a risk of infinite loops if the condition never becomes false, so be cautious.\n",
        "You can use variables and complex expressions as loop conditions.\n",
        "- It's essential to update the loop control variable within the loop to prevent infinite loops.\n",
        "- While loops are typically used for tasks such as iterating over collections or waiting for a specific condition to be met.\n",
        "- You can always break out of a while loop prematurely using the break statement."
      ]
    },
    {
      "cell_type": "markdown",
      "metadata": {
        "id": "E8iapCcPija6"
      },
      "source": [
        "## Example of While Loops"
      ]
    },
    {
      "cell_type": "code",
      "execution_count": 1,
      "metadata": {
        "id": "Jq6_6Xz9iQ7T"
      },
      "outputs": [],
      "source": [
        "public class PyramidPattern {\n",
        "    public static void main(String[] args) {\n",
        "        int height = 5;\n",
        "        int row = 1;\n",
        "\n",
        "        while (row <= height) {\n",
        "            int spaces = height - row;\n",
        "            int stars = 2 * row - 1;\n",
        "\n",
        "            // Print spaces\n",
        "            int spaceCount = spaces;\n",
        "            while (spaceCount > 0) {\n",
        "                System.out.print(\" \");\n",
        "                spaceCount--;\n",
        "            }\n",
        "\n",
        "            // Print stars\n",
        "            int starCount = stars;\n",
        "            while (starCount > 0) {\n",
        "                System.out.print(\"*\");\n",
        "                starCount--;\n",
        "            }\n",
        "\n",
        "            System.out.println(); // Move to the next line for the next row\n",
        "            row++;\n",
        "        }\n",
        "    }\n",
        "}"
      ]
    },
    {
      "cell_type": "markdown",
      "metadata": {
        "id": "PlEcHnmjiFbP"
      },
      "source": [
        "# 4.2 for Loops"
      ]
    },
    {
      "cell_type": "markdown",
      "metadata": {
        "id": "zqeh9EO5iFbP"
      },
      "source": [
        "---"
      ]
    },
    {
      "cell_type": "markdown",
      "metadata": {
        "id": "KE4BIEPriFbQ"
      },
      "source": [
        "- Iterative statement that checks for condition\n",
        "- Repeatedly execute a a block of code as long as the condition is met\n",
        "- Condition specifies amount of times\n",
        "\n",
        "# for Loops vs. while Loops\n",
        "- while Loops: use when number of iterations is unknown\n",
        "- for Loops: use when number of iterations is known"
      ]
    },
    {
      "cell_type": "code",
      "execution_count": null,
      "metadata": {
        "id": "puqpCZjUiFbQ",
        "outputId": "d0b6c4cd-efd4-48bc-94ae-a1a65f07ca7b"
      },
      "outputs": [
        {
          "name": "stdout",
          "output_type": "stream",
          "text": [
            "0\n",
            "1\n",
            "2\n",
            "3\n",
            "4\n"
          ]
        }
      ],
      "source": [
        "int i = 0;\n",
        "while (i < 5) {\n",
        "    System.out.println(i);\n",
        "    i++;\n",
        "}"
      ]
    },
    {
      "cell_type": "code",
      "execution_count": null,
      "metadata": {
        "id": "gZ19jPsGiFbS",
        "outputId": "8b800081-760b-4b06-c86d-c867c9b1c841"
      },
      "outputs": [
        {
          "name": "stdout",
          "output_type": "stream",
          "text": [
            "0\n",
            "1\n",
            "2\n",
            "3\n",
            "4\n"
          ]
        }
      ],
      "source": [
        "for (int i = 0; i < 5; i++) {\n",
        "    System.out.println(i);\n",
        "}"
      ]
    },
    {
      "cell_type": "markdown",
      "metadata": {
        "id": "w9Hb_U8JiFbS"
      },
      "source": [
        "- Three parts in for loop header: variable initialization, Boolean (conditional) expression, and increment/decrement statement\n",
        "\n",
        "Question: Which part is which?\n",
        "\n",
        "- variable initialization (int i=0): sets variable before loop starts\n",
        "- Boolean (conditional) expression (i < 5): defines condition for loop to run, in this case, the loop continues as long as i is less than 5, so loops 5 times i 05\n",
        "- increment/decrement statement (i++): increases variable each time code block in the loop is executed, in this case it increases by 1\n",
        "- variable can be used in the code block for other various reasons besides specifying how many times the loop will repeat\n",
        "- Boolean (conditional) expression and increment/decrement statement together determine how many times the loop will repeat\n",
        "\n",
        "Calculate and print the sum of all even numbers from 1 to a given positive integer ‘n’ (user input n)\n"
      ]
    },
    {
      "cell_type": "code",
      "execution_count": 3,
      "metadata": {},
      "outputs": [
        {
          "name": "stdout",
          "output_type": "stream",
          "text": [
            "Enter any positive integer 'n': "
          ]
        },
        {
          "name": "stdout",
          "output_type": "stream",
          "text": [
            "Sum of even numbers from 1 to 12 equals: 42\n"
          ]
        }
      ],
      "source": [
        "import java.util.Scanner;\n",
        "\n",
        "public class EvenNumberSum {\n",
        "    public static void main(String[] args) {\n",
        "        Scanner scanner = new Scanner(System.in);\n",
        "\n",
        "        System.out.print(\"Enter any positive integer 'n': \");\n",
        "        int n = scanner.nextInt();\n",
        "\n",
        "        if (n < 1) {\n",
        "            System.out.println(\"Enter any positive integer 'n'\");\n",
        "        } else {\n",
        "            int sum = 0;\n",
        "            for (int i = 2; i <= n; i += 2) {\n",
        "                sum += i;\n",
        "            }\n",
        "\n",
        "            System.out.println(\"Sum of even numbers from 1 to \" + n + \" equals: \" + sum);\n",
        "        }\n",
        "    }\n",
        "}\n",
        "EvenNumberSum.main(null);"
      ]
    },
    {
      "cell_type": "markdown",
      "metadata": {
        "id": "2Qsee252iFbT"
      },
      "source": [
        "# 4.3 Developing Algorithms Using Strings"
      ]
    },
    {
      "cell_type": "markdown",
      "metadata": {
        "id": "yx27l9SHiFbT"
      },
      "source": [
        "---"
      ]
    },
    {
      "cell_type": "markdown",
      "metadata": {
        "id": "o7jsDtk6iFbT"
      },
      "source": [
        "LEARNING OBJECTIVES:\n",
        "For algorithms in the context of a particular specification that involves ```String``` objects:\n",
        "- identify standard algorithms\n",
        "- modify standard algorithms\n",
        "- develop an algorithm\n",
        "\n",
        "\n",
        "**Java has many methods that are helpful when working with strings:**\n",
        "\n",
        "* ```String .substring``` --> retrieves portion of a string\n",
        "* ```String .equals``` --> compares two strings\n",
        "* ```String .length``` --> returns length of a string\n",
        "* ```for Loop``` --> iterating through characters of a string\n",
        "\n",
        "<br>\n",
        "<br>\n",
        "\n",
        "<h3> Finding a substring within a string </h3>\n",
        "\n",
        "We can use the \"window\" method:\n",
        "\n",
        "A \"window\" is created the same length as the substring. We then iterate through the main string in sections and compare to the substring\n",
        "\n",
        "For example:\n",
        "\n",
        "<h3> I T E R A T E </h3>with substring \"ERA\"\n",
        "\n",
        "<br>\n",
        "<br>\n",
        "<br>"
      ]
    },
    {
      "cell_type": "code",
      "execution_count": 30,
      "metadata": {
        "id": "NdBC9Hr5iFbT"
      },
      "outputs": [
        {
          "name": "stdout",
          "output_type": "stream",
          "text": [
            "Substring is found within the string!\n"
          ]
        }
      ],
      "source": [
        "public class StringFinder {\n",
        "    public static void main(String[] args) {\n",
        "        String word = \"iterate\";\n",
        "        String sub = \"era\";\n",
        "        boolean found = false;\n",
        "\n",
        "        // Adjusted loop range to prevent out-of-bounds error\n",
        "        for (int i = 0; i <= word.length() - sub.length(); i++) {\n",
        "            String portion = word.substring(i, i + sub.length()).toLowerCase(); // Convert to lowercase for case-insensitive comparison\n",
        "            if (portion.equals(sub.toLowerCase())) {\n",
        "                found = true;\n",
        "                break; // Substring found, exit the loop early\n",
        "            }\n",
        "        }\n",
        "\n",
        "        if (found)\n",
        "            System.out.println(\"Substring is found within the string!\");\n",
        "        else\n",
        "            System.out.println(\"Substring is NOT within the string\");\n",
        "    }\n",
        "}\n",
        "StringFinder.main(null);"
      ]
    },
    {
      "cell_type": "markdown",
      "metadata": {
        "id": "bWGMnmK6iFbT"
      },
      "source": [
        "<h4> POPCORN HACK: Run the code.. what happened? How can we fix it?</h4>\n",
        "\n",
        "Tell us below!\n",
        "\n",
        "<br>\n",
        "When the code cell is executed, an out of bounds error occurs. This is the case because there are no letters after the final letter even though the for loop continues until the end of the word. This can be corrected by changing the upper bound to i = word.duration() - sub.duration()\n",
        "<br>\n",
        "\n",
        "\n",
        "<h4> Another issue:</h4>\n",
        "\n",
        "<h3> I T E R A T E </h3>\n",
        "What if our substring was the word \"RATE\"? Note that RATE is at the end of the whole string\n",
        "\n",
        "<br>\n",
        "The provided code will correctly identify that the substring is within the word if the substring \"RATE\" is at the end of the word \"iterate\". \n",
        "<br>\n",
        "\n",
        "<h3> HACKS </h3>\n",
        "\n",
        "**Create a algorithm similar to the one above. Except this time, use iteration to count the number of vowels within the main string.**\n",
        "\n",
        "HINT: Use the boolean expressions we have learned in previous lessons. Which would you use when comparing your \"window\" with multiple options of substrings?"
      ]
    },
    {
      "cell_type": "code",
      "execution_count": 2,
      "metadata": {},
      "outputs": [
        {
          "name": "stdout",
          "output_type": "stream",
          "text": [
            "Number of vowels in the string: 2\n"
          ]
        }
      ],
      "source": [
        "public class vowelCount {\n",
        "    public static void main(String[] args) {\n",
        "        String word = \"hello\";\n",
        "        int vowelCount = 0; \n",
        "\n",
        "        for (int i = 0; i < word.length(); i++) {\n",
        "            char currentChar = word.charAt(i);\n",
        "\n",
        "            if (currentChar == 'a' || currentChar == 'e' || currentChar == 'i' || currentChar == 'o' || currentChar == 'u') {\n",
        "                vowelCount++;\n",
        "            }\n",
        "        }\n",
        "\n",
        "        System.out.println(\"Number of vowels in the string: \" + vowelCount);\n",
        "    }\n",
        "}\n",
        "vowelCount.main(null)"
      ]
    },
    {
      "cell_type": "markdown",
      "metadata": {
        "id": "gQ5Aei3eiFbT"
      },
      "source": [
        "# 4.4 Nested Iteration"
      ]
    },
    {
      "cell_type": "markdown",
      "metadata": {
        "id": "sdYSe47hiFbT"
      },
      "source": [
        "**nested iteration**\n",
        "<details>occurs when we have a loop inside of another loop, similar to nested conditional statements in unit 3"
      ]
    },
    {
      "cell_type": "markdown",
      "metadata": {
        "id": "8qx7m09piFbT"
      },
      "source": [
        "When you have one loop inside another, the inner loop has to finish all its rounds before the outer loop moves to the next round. If the inner loop has a \"stop\" command, it only stops for that round of the outer loop. The next time the outer loop starts a new round, the inner loop starts over.\n",
        "\n",
        "If you have two nested loops without stops, and the outer one runs n times while the inner one runs m times each time the outer one goes around, the inner loop will run m times n times, which is m * n times in total. This rule also applies if you have more than two nested loops. To find the total number of times the innermost loop runs, just multiply how many times each loop runs per round."
      ]
    },
    {
      "cell_type": "code",
      "execution_count": 5,
      "metadata": {
        "id": "SE-EnFk5iFbU"
      },
      "outputs": [
        {
          "name": "stdout",
          "output_type": "stream",
          "text": [
            "Outer loop iteration: 1\n",
            "Inner loop iteration: 1\n",
            "Inner loop iteration: 2\n",
            "Outer loop iteration: 2\n",
            "Inner loop iteration: 1\n",
            "Inner loop iteration: 2\n",
            "Outer loop iteration: 3\n",
            "Inner loop iteration: 1\n",
            "Inner loop iteration: 2\n"
          ]
        }
      ],
      "source": [
        "public class NestedLoopsDemo {\n",
        "    public static void main(String[] args) {\n",
        "        int n = 3; //numb of times the outside loop runs\n",
        "        int m = 2; //numb of times the inside loop runs\n",
        "\n",
        "        //the nested loops\n",
        "        for (int i = 1; i <= n; i++) {\n",
        "            System.out.println(\"Outer loop iteration: \" + i);\n",
        "            for (int j = 1; j <= m; j++) {\n",
        "                System.out.println(\"Inner loop iteration: \" + j);\n",
        "            }\n",
        "        }\n",
        "    }\n",
        "}\n",
        "NestedLoopsDemo.main(null)"
      ]
    },
    {
      "cell_type": "markdown",
      "metadata": {
        "id": "2tGuZ6sliFbU"
      },
      "source": [
        "### Break Statement\n",
        "\n",
        "**break statement**\n",
        "<details>is used to exit a loop prematurely, typically when a certain condition is met. In the case of nested loops, it can be used to break out of the innermost loop."
      ]
    },
    {
      "cell_type": "code",
      "execution_count": 4,
      "metadata": {
        "id": "WYOiIZ0hiFbU"
      },
      "outputs": [
        {
          "name": "stdout",
          "output_type": "stream",
          "text": [
            "Outer loop iteration 1\n",
            "Inner loop iteration 1\n",
            "Inner loop iteration 2\n",
            "Inner loop iteration 3\n",
            "Outer loop iteration 2\n",
            "Inner loop iteration 1\n",
            "Inner loop iteration 2\n",
            "Breaking inner loop\n",
            "Outer loop iteration 3\n",
            "Inner loop iteration 1\n",
            "Inner loop iteration 2\n",
            "Inner loop iteration 3\n"
          ]
        }
      ],
      "source": [
        "public class BreakExample {\n",
        "    public static void main(String[] args) {\n",
        "        for (int i = 1; i <= 3; i++) {\n",
        "            System.out.println(\"Outer loop iteration \" + i);\n",
        "\n",
        "            for (int j = 1; j <= 3; j++) {\n",
        "                System.out.println(\"Inner loop iteration \" + j);\n",
        "\n",
        "                if (i == 2 && j == 2) {\n",
        "                    System.out.println(\"Breaking inner loop\");\n",
        "                    break; //break out of the inside loop when i is 2 and j is 2.\n",
        "                }\n",
        "            }\n",
        "        }\n",
        "    }\n",
        "}\n",
        "BreakExample.main(null)"
      ]
    },
    {
      "cell_type": "markdown",
      "metadata": {
        "id": "07CqREosiFbU"
      },
      "source": [
        "### Popcorn HACK\n",
        "\n",
        "When the targetNumber is found, you can print a message and use the break statement to exit the loop. When it's not found, you can print a message indicating that the number was not found."
      ]
    },
    {
      "cell_type": "code",
      "execution_count": 3,
      "metadata": {
        "id": "mvD8YS8giFbU"
      },
      "outputs": [
        {
          "name": "stdout",
          "output_type": "stream",
          "text": [
            "Number 42 was not found.\n"
          ]
        }
      ],
      "source": [
        "public class BreakHack {\n",
        "    public static void main(String[] args) {\n",
        "        int targetNumber = 42; // num we want\n",
        "        int[] numbers = {10, 20, 30, 40, 50, 60, 70}; // array\n",
        "\n",
        "        boolean found = false; // variable to track if the target number is found\n",
        "\n",
        "        for (int number : numbers) {\n",
        "            if (number == targetNumber) {\n",
        "                found = true;\n",
        "                System.out.println(\"Number \" + targetNumber + \" found.\");\n",
        "                break; \n",
        "            }\n",
        "        }\n",
        "\n",
        "        if (!found) {\n",
        "            System.out.println(\"Number \" + targetNumber + \" was not found.\");\n",
        "        }\n",
        "    }\n",
        "}\n",
        "BreakHack.main(null)"
      ]
    },
    {
      "cell_type": "markdown",
      "metadata": {
        "id": "Uu9qDRhriFbU"
      },
      "source": [
        "### Continue Statement\n",
        "\n",
        "**continue statement**\n",
        "<details>is used to skip the current iteration of a loop and move to the next iteration. In the case of nested loops, it applies to the innermost loop."
      ]
    },
    {
      "cell_type": "code",
      "execution_count": null,
      "metadata": {
        "id": "LBzvnBikiFbU"
      },
      "outputs": [],
      "source": [
        "public class ContinueExample {\n",
        "    public static void main(String[] args) {\n",
        "        for (int i = 1; i <= 3; i++) {\n",
        "            System.out.println(\"Outer loop iteration \" + i);\n",
        "\n",
        "            for (int j = 1; j <= 3; j++) {\n",
        "                if (i == 2 && j == 2) {\n",
        "                    System.out.println(\"Skipping inner loop iteration \" + j);\n",
        "                    continue; //skip the iteration when i is 2 and j is 2.\n",
        "                }\n",
        "                System.out.println(\"Inner loop iteration \" + j);\n",
        "            }\n",
        "        }\n",
        "    }\n",
        "}\n",
        "ContinueExample.main(null)"
      ]
    },
    {
      "cell_type": "markdown",
      "metadata": {
        "id": "_CMN4mGIiFbU"
      },
      "source": [
        "### Patterns and Shapes"
      ]
    },
    {
      "cell_type": "code",
      "execution_count": 6,
      "metadata": {
        "id": "i3FAExO2iFbV"
      },
      "outputs": [
        {
          "name": "stdout",
          "output_type": "stream",
          "text": [
            "Enter the symbol you want to use: "
          ]
        },
        {
          "name": "stdout",
          "output_type": "stream",
          "text": [
            "Enter the number of rows for the pyramid:        W\n",
            "      WWW\n",
            "     WWWWW\n",
            "    WWWWWWW\n",
            "   WWWWWWWWW\n",
            "  WWWWWWWWWWW\n",
            " WWWWWWWWWWWWW\n",
            "WWWWWWWWWWWWWWW\n"
          ]
        }
      ],
      "source": [
        "import java.util.Scanner;\n",
        "\n",
        "public class InteractivePyramid {\n",
        "    public static void main(String[] args) {\n",
        "        Scanner scanner = new Scanner(System.in);\n",
        "\n",
        "        System.out.print(\"Enter the symbol you want to use: \");\n",
        "        char symbol = scanner.next().charAt(0);\n",
        "\n",
        "        System.out.print(\"Enter the number of rows for the pyramid: \");\n",
        "        int numRows = scanner.nextInt();\n",
        "\n",
        "        for (int i = 1; i <= numRows; i++) {\n",
        "            //print space before the symbol\n",
        "            for (int j = 1; j <= numRows - i; j++) {\n",
        "                System.out.print(\" \");\n",
        "            }\n",
        "\n",
        "            //print\n",
        "            for (int k = 1; k <= 2 * i - 1; k++) {\n",
        "                System.out.print(symbol);\n",
        "            }\n",
        "\n",
        "            System.out.println(); //next line\n",
        "        }\n",
        "        scanner.close();\n",
        "    }\n",
        "}\n",
        "InteractivePyramid.main(null)"
      ]
    },
    {
      "cell_type": "markdown",
      "metadata": {
        "id": "WKNmFknwiFbV"
      },
      "source": [
        "## Hacks\n",
        "\n",
        "1. **Modify pyramid code:**\n",
        "\n",
        "- Create different patterns (other then pyramid) by modifying nested loop structure\n",
        "\n",
        "### Inverted Pyramid"
      ]
    },
    {
      "cell_type": "code",
      "execution_count": 8,
      "metadata": {},
      "outputs": [
        {
          "name": "stdout",
          "output_type": "stream",
          "text": [
            "Enter the symbol you want to use: Enter the number of rows for the inverted pyramid: WWWWWWWWWWWWWWW\n",
            " WWWWWWWWWWWWW\n",
            "  WWWWWWWWWWW\n",
            "   WWWWWWWWW\n",
            "    WWWWWWW\n",
            "     WWWWW\n",
            "      WWW\n",
            "       W\n"
          ]
        }
      ],
      "source": [
        "import java.util.Scanner;\n",
        "\n",
        "public class InvertPyramid {\n",
        "    public static void main(String[] args) {\n",
        "        Scanner scanner = new Scanner(System.in);\n",
        "\n",
        "        System.out.print(\"Enter the symbol you want to use: \");\n",
        "        char symbol = scanner.next().charAt(0);\n",
        "\n",
        "        System.out.print(\"Enter the number of rows for the inverted pyramid: \");\n",
        "        int numRows = scanner.nextInt();\n",
        "\n",
        "        for (int i = numRows; i >= 1; i--) {\n",
        "            // print spaces before the symbol\n",
        "            for (int j = 1; j <= numRows - i; j++) {\n",
        "                System.out.print(\" \");\n",
        "            }\n",
        "\n",
        "            // print symbols\n",
        "            for (int k = 1; k <= 2 * i - 1; k++) {\n",
        "                System.out.print(symbol);\n",
        "            }\n",
        "\n",
        "            System.out.println(); // next line\n",
        "        }\n",
        "        scanner.close();\n",
        "    }\n",
        "}\n",
        "InvertPyramid.main(null)"
      ]
    },
    {
      "cell_type": "markdown",
      "metadata": {},
      "source": [
        "2. **Questions**\n",
        "\n",
        "- What is a nested iteration, continue statement, and break statement (in your own words)?\n",
        "\n",
        "A nested iteration is a series of loops nested inside one another. A continue statement instructs the loop to continue its execution. A break statement causes the code to break from the loop.\n",
        "\n",
        "- Create a simple example of a continue statement **or** break statement\n",
        "\n",
        "There is a list of basketball players. There is also a list of players who are ineligible to participate in the game for various reasons. To move to the next player on the roster instead of processing ineligible players inside the loop, I use a continue statement. "
      ]
    },
    {
      "cell_type": "code",
      "execution_count": 12,
      "metadata": {},
      "outputs": [
        {
          "name": "stdout",
          "output_type": "stream",
          "text": [
            "Basketball Roster:\n",
            "Playing with Player1\n",
            "Player2 is ineligible for the game. Skipping...\n",
            "Playing with Player3\n",
            "Player4 is ineligible for the game. Skipping...\n",
            "Playing with Player5\n"
          ]
        }
      ],
      "source": [
        "import java.util.ArrayList;\n",
        "import java.util.List;\n",
        "\n",
        "public class BasketballRoster {\n",
        "    public static void main(String[] args) {\n",
        "        List<String> playerRoster = new ArrayList<>();\n",
        "        playerRoster.add(\"Player1\");\n",
        "        playerRoster.add(\"Player2\");\n",
        "        playerRoster.add(\"Player3\");\n",
        "        playerRoster.add(\"Player4\");\n",
        "        playerRoster.add(\"Player5\");\n",
        "\n",
        "        // Assume some players are ineligible for the game\n",
        "        List<String> ineligiblePlayers = new ArrayList<>();\n",
        "        ineligiblePlayers.add(\"Player2\");\n",
        "        ineligiblePlayers.add(\"Player4\");\n",
        "\n",
        "        System.out.println(\"Basketball Roster:\");\n",
        "\n",
        "        for (String player : playerRoster) {\n",
        "            // Check if the player is ineligible\n",
        "            if (ineligiblePlayers.contains(player)) {\n",
        "                System.out.println(player + \" is ineligible for the game. Skipping...\");\n",
        "                continue;  // Skip to the next iteration\n",
        "            }\n",
        "\n",
        "            // Process the eligible player\n",
        "            System.out.println(\"Playing with \" + player);\n",
        "        }\n",
        "    }\n",
        "}\n",
        "BasketballRoster.main(null)"
      ]
    },
    {
      "cell_type": "markdown",
      "metadata": {
        "id": "1cP_yN3jiFbV"
      },
      "source": [
        "---"
      ]
    },
    {
      "cell_type": "markdown",
      "metadata": {
        "id": "BuoyimRViFbV"
      },
      "source": [
        "# 4.5 Informal Code Analysis\n",
        "\n",
        "<b>Learning objective</b>: Compute statement execution counts & informal run-time comparison of iterative statements\n",
        "\n",
        "<b>Essential Knowledge</b>: A statement execution count indicates the number of times a statement is executed by the program"
      ]
    },
    {
      "cell_type": "markdown",
      "metadata": {
        "id": "i6lNhfE5iFbV"
      },
      "source": [
        "<h3> What IS informal code analysis? </h3>\n",
        "\n",
        "Answer: Computing informal runtime"
      ]
    },
    {
      "cell_type": "code",
      "execution_count": null,
      "metadata": {
        "id": "u-8M605aiFbV"
      },
      "outputs": [],
      "source": [
        "// CODE EXAMPLE #1 (for loop)\n",
        "public class InformalCodeAnalysis {\n",
        "    public static void main(String[] args) {\n",
        "        int count = 0;\n",
        "        for (int k = 0; k < 30; k++)\n",
        "        {\n",
        "            if (k % 3 == 0) // statement 1\n",
        "            {\n",
        "                count++; // statement 2\n",
        "            }\n",
        "        }\n",
        "    }\n",
        "}"
      ]
    },
    {
      "cell_type": "markdown",
      "metadata": {
        "id": "mG7oXy_SiFbW"
      },
      "source": [
        "<b>How many times will statement 1 execute? </b>\n",
        "\n",
        "Answer: 10\n",
        "\n",
        "<b>How many times will statement 2 execute?</b>\n",
        "\n",
        "Answer: 30"
      ]
    },
    {
      "cell_type": "code",
      "execution_count": 15,
      "metadata": {
        "id": "QVPEF82jiFbW"
      },
      "outputs": [
        {
          "name": "stdout",
          "output_type": "stream",
          "text": [
            "9\n"
          ]
        }
      ],
      "source": [
        "// CODE EXAMPLE #2 (for loop)\n",
        "public class InformalCodeAnalysis {\n",
        "    public static void main(String[] args) {\n",
        "        int count = 0;\n",
        "        for (int k = 4; k < 30; k+=3)\n",
        "        {\n",
        "            count++; // statement 3\n",
        "        }\n",
        "        System.out.println(count);\n",
        "    }\n",
        "}\n",
        "InformalCodeAnalysis.main(null)"
      ]
    },
    {
      "cell_type": "markdown",
      "metadata": {
        "id": "ZfFLuOHqiFbW"
      },
      "source": [
        "<b>How many times will statement 3 execute?</b>\n",
        "\n",
        "Answer: 9"
      ]
    },
    {
      "cell_type": "code",
      "execution_count": 16,
      "metadata": {
        "id": "fv6VvS8AiFbW"
      },
      "outputs": [
        {
          "name": "stdout",
          "output_type": "stream",
          "text": [
            "0\n",
            "5\n",
            "10\n",
            "15\n",
            "20\n",
            "25\n",
            "30\n",
            "35\n",
            "40\n",
            "45\n",
            "50\n",
            "55\n",
            "60\n",
            "65\n",
            "70\n",
            "75\n",
            "80\n",
            "85\n",
            "90\n",
            "95\n",
            "100\n",
            "105\n",
            "110\n",
            "115\n",
            "120\n",
            "125\n",
            "130\n",
            "0\n",
            "5\n",
            "10\n",
            "15\n",
            "20\n",
            "25\n",
            "30\n",
            "35\n",
            "40\n",
            "45\n",
            "50\n",
            "55\n",
            "60\n",
            "65\n",
            "70\n",
            "75\n",
            "80\n",
            "85\n",
            "90\n",
            "95\n",
            "100\n",
            "105\n",
            "110\n",
            "115\n",
            "120\n",
            "125\n",
            "130\n"
          ]
        }
      ],
      "source": [
        "// Rewrite the code segment below to have a faster run-time based on statement execution counts\n",
        "for (int k = 0; k < 135; k++)\n",
        "{\n",
        "    if (k % 5 == 0)\n",
        "    {\n",
        "        System.out.println(k);\n",
        "    }\n",
        "}\n",
        "\n",
        "// Runs 27 times instead of 135 times\n",
        "for (int k = 0; k < 135; k+=5)\n",
        "{\n",
        "    System.out.println(k);\n",
        "}"
      ]
    },
    {
      "cell_type": "code",
      "execution_count": null,
      "metadata": {
        "id": "PAtLyFjKiFbX"
      },
      "outputs": [],
      "source": [
        "// CODE EXAMPLE #3 (while loop)\n",
        "\n",
        "int num = (int)(Math.random() * 10);\n",
        "while (num % 2 != 0)\n",
        "{\n",
        "    num = (int)(Math.random() * 10) // statement 4\n",
        "}"
      ]
    },
    {
      "cell_type": "markdown",
      "metadata": {
        "id": "AaMr4kc3iFbX"
      },
      "source": [
        "<b>What is the min/max number of times statement 4 will execute?</b>\n",
        "\n",
        "Answer: The minimum amount of time is 0 and the largest amount of time is infinite."
      ]
    },
    {
      "cell_type": "code",
      "execution_count": null,
      "metadata": {
        "id": "87I7g-oKiFbg"
      },
      "outputs": [],
      "source": [
        "// CODE EXAMPLE #4 (nested loop)\n",
        "\n",
        "for (int outer = 0; outer < 3; outer++)\n",
        "{\n",
        "    for (int inner = 0; inner < 4; inner++)\n",
        "    {\n",
        "        // statement #5\n",
        "    }\n",
        "}"
      ]
    },
    {
      "cell_type": "markdown",
      "metadata": {
        "id": "QjD7iRJbiFbg"
      },
      "source": [
        "<b>How many times will statement #5 execute?</b>\n",
        "\n",
        "Answer: 12 times"
      ]
    },
    {
      "cell_type": "code",
      "execution_count": 18,
      "metadata": {
        "id": "vHEVqsx3iFbh"
      },
      "outputs": [
        {
          "name": "stdout",
          "output_type": "stream",
          "text": [
            "3\n",
            "1\n",
            "1\n",
            "6\n",
            "4\n",
            "3\n",
            "1\n",
            "6\n",
            "2\n",
            "1\n",
            "2\n",
            "2\n",
            "3\n",
            "5\n",
            "4\n",
            "5\n",
            "5\n",
            "2\n",
            "5\n",
            "2\n",
            "4\n",
            "1\n",
            "5\n",
            "6\n",
            "6\n",
            "2\n",
            "1\n",
            "5\n",
            "2\n",
            "1\n",
            "4\n",
            "5\n",
            "2\n",
            "3\n",
            "1\n",
            "2\n",
            "3\n",
            "5\n",
            "4\n",
            "6\n"
          ]
        }
      ],
      "source": [
        "// CODE EXAMPLE #5 (nested loop)\n",
        "\n",
        "int k = 0;\n",
        "while (k < 5)\n",
        "{\n",
        "    int x = (int)(Math.random() * 6) + 1;\n",
        "    while (x != 6)\n",
        "    {\n",
        "        // statement #6\n",
        "        x = (int)(Math.random() * 6) + 1;\n",
        "        System.out.println(x);\n",
        "    }\n",
        "    k++;\n",
        "}"
      ]
    },
    {
      "cell_type": "markdown",
      "metadata": {
        "id": "2-bB9MoEiFbh"
      },
      "source": [
        "<b>How many times will statement #6 execute?</b>\n",
        "\n",
        "Answer: Between 0 and an infinite number of times."
      ]
    },
    {
      "cell_type": "markdown",
      "metadata": {
        "id": "ovHrQpRYiFbh"
      },
      "source": [
        "# 4.5 Hacks"
      ]
    },
    {
      "cell_type": "markdown",
      "metadata": {
        "id": "o7wKf8YpiFbh"
      },
      "source": [
        "\n",
        "<b>#1 How many times will statement #1 and statement #2 execute in the code segments below? </b>\n",
        "\n",
        "Statement 1: 1000 times\n",
        "\n",
        "Statement 2: 44 times"
      ]
    },
    {
      "cell_type": "code",
      "execution_count": 19,
      "metadata": {
        "id": "4Xv5tRjViFbh"
      },
      "outputs": [],
      "source": [
        "for (int k = 0; k < 1000; k++)\n",
        "{\n",
        "    // statement #1\n",
        "}"
      ]
    },
    {
      "cell_type": "code",
      "execution_count": 20,
      "metadata": {
        "id": "klZimcf_iFbh"
      },
      "outputs": [],
      "source": [
        "for (int k = 6; k < 50; k++)\n",
        "{\n",
        "    // statement #2\n",
        "}"
      ]
    },
    {
      "cell_type": "markdown",
      "metadata": {
        "id": "8rDcCOqoiFbh"
      },
      "source": [
        "<b>#2 How many times will statement #3 execute for the code segment below?</b>\n",
        "\n",
        "Statement 3: 28 times"
      ]
    },
    {
      "cell_type": "code",
      "execution_count": null,
      "metadata": {
        "id": "J7zbFi5tiFbh"
      },
      "outputs": [],
      "source": [
        "int k = 1;\n",
        "while (k <=7)\n",
        "{\n",
        "    for (int z = 0; z < 4; z++)\n",
        "    {\n",
        "        // statement #3\n",
        "    }\n",
        "    k++;\n",
        "}"
      ]
    },
    {
      "cell_type": "markdown",
      "metadata": {
        "id": "SkYq79_HiFbh"
      },
      "source": [
        "<b>#3 Create 3 seperate code segments that execute a statement 10 times using: </b>\n",
        "\n",
        "(a) a for loop\n",
        "\n",
        "(b) a while loop\n",
        "\n",
        "(c) a nested loop"
      ]
    },
    {
      "cell_type": "code",
      "execution_count": 24,
      "metadata": {
        "id": "KyXT2RyMiFbh"
      },
      "outputs": [
        {
          "name": "stdout",
          "output_type": "stream",
          "text": [
            "1\n",
            "2\n",
            "3\n",
            "4\n",
            "5\n",
            "6\n",
            "7\n",
            "8\n",
            "9\n",
            "10\n"
          ]
        }
      ],
      "source": [
        "// 3a code\n",
        "public class ThreeA {\n",
        "    public static void main(String[] args) {\n",
        "        for (int i = 0; i < 10; i++) {\n",
        "            System.out.println((i + 1));\n",
        "        }\n",
        "    }\n",
        "}\n",
        "ThreeA.main(null)"
      ]
    },
    {
      "cell_type": "code",
      "execution_count": 26,
      "metadata": {
        "id": "9gSAz_D9iFbi"
      },
      "outputs": [
        {
          "name": "stdout",
          "output_type": "stream",
          "text": [
            "1\n",
            "2\n",
            "3\n",
            "4\n",
            "5\n",
            "6\n",
            "7\n",
            "8\n",
            "9\n",
            "10\n"
          ]
        }
      ],
      "source": [
        "// 3b code\n",
        "public class ThreeB {\n",
        "    public static void main(String[] args) {\n",
        "        int i = 0;\n",
        "        while (i < 10) {\n",
        "            System.out.println(i + 1);\n",
        "            i++;\n",
        "        }\n",
        "    }\n",
        "}\n",
        "ThreeB.main(null)"
      ]
    },
    {
      "cell_type": "code",
      "execution_count": 27,
      "metadata": {
        "id": "DFKyyHdiiFbi"
      },
      "outputs": [
        {
          "name": "stdout",
          "output_type": "stream",
          "text": [
            "1\n",
            "2\n",
            "3\n",
            "4\n",
            "5\n",
            "6\n",
            "7\n",
            "8\n",
            "9\n",
            "10\n"
          ]
        }
      ],
      "source": [
        "// 3c code\n",
        "public class ThreeC {\n",
        "    public static void main(String[] args) {\n",
        "        for (int i = 0; i < 10; i++) {\n",
        "            for (int j = 0; j < 1; j++) { // Inner loop only runs once\n",
        "                System.out.println((i + 1) );\n",
        "            }\n",
        "        }\n",
        "    }\n",
        "}\n",
        "ThreeC.main(null)"
      ]
    }
  ],
  "metadata": {
    "colab": {
      "provenance": []
    },
    "kernelspec": {
      "display_name": "Java",
      "language": "java",
      "name": "java"
    },
    "language_info": {
      "codemirror_mode": "java",
      "file_extension": ".jshell",
      "mimetype": "text/x-java-source",
      "name": "java",
      "pygments_lexer": "java",
      "version": "17.0.8.1+1-Ubuntu-0ubuntu120.04"
    }
  },
  "nbformat": 4,
  "nbformat_minor": 0
}
