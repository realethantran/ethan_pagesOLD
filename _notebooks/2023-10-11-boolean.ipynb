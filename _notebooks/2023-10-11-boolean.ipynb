{
 "cells": [
  {
   "cell_type": "markdown",
   "metadata": {},
   "source": [
    "---\n",
    "layout: post\n",
    "title: U3 P1 Booleans and If Statements Hacks\n",
    "description: Hacks for U3 P1\n",
    "type: hacks\n",
    "courses: {csa: {week: 8} }\n",
    "---"
   ]
  },
  {
   "cell_type": "markdown",
   "metadata": {},
   "source": [
    "- What is a boolean? \n",
    "\n",
    "A boolean expression represents  true (1) or false (0). Boolean is used as a conditional. \n",
    "\n",
    "- What values can a boolean represent? How many? \n",
    "\n",
    "Two values, true (1) and false (0).\n",
    "\n",
    "- What is an example of when we’d use a boolean? \n",
    "\n",
    "An example of when to use boolean is when determining if a light is on (true) or off (false)."
   ]
  },
  {
   "cell_type": "markdown",
   "metadata": {},
   "source": [
    "# Challenge Problem\n",
    "\n",
    "Identify the issue(s) in the code below (hint: try running it yourself). Then, make the necessary corrections to ensure that the program runs as intended.\n",
    "\n",
    "If you run the code and type in any answer, including the correct one, it returns false."
   ]
  },
  {
   "cell_type": "code",
   "execution_count": 2,
   "metadata": {
    "vscode": {
     "languageId": "java"
    }
   },
   "outputs": [
    {
     "name": "stdout",
     "output_type": "stream",
     "text": [
      "Guess my name!\n",
      "Your guess: John\n",
      "true\n"
     ]
    }
   ],
   "source": [
    "import java.util.Scanner;\n",
    "\n",
    "public class Challenge {\n",
    "\n",
    "    private static boolean isName = false;\n",
    "    private static String name = \"John\";\n",
    "\n",
    "    public static void main(String[] args) {\n",
    "\n",
    "        Scanner sc = new Scanner(System.in);\n",
    "\n",
    "        System.out.println(\"Guess my name!\");\n",
    "\n",
    "        String guess = sc.nextLine();\n",
    "        System.out.println(\"Your guess: \" + guess);\n",
    "\n",
    "        if (guess.equals(name)) {\n",
    "            isName = true;\n",
    "        } else {\n",
    "            System.out.println(\"Wrong! L Cope\");\n",
    "        }\n",
    "\n",
    "        System.out.println(isName);\n",
    "    }\n",
    "}\n",
    "\n",
    "Challenge.main(null);"
   ]
  },
  {
   "cell_type": "markdown",
   "metadata": {},
   "source": [
    "# Your Homework\n",
    "\n",
    "Now that you know what boolean expressions are and how to write them, as well as several comparison methods, your task is to write a class that uses either the compareTo or comparator and compare. Then create two instances of these classes and demonstrate using if statements. "
   ]
  },
  {
   "cell_type": "code",
   "execution_count": 4,
   "metadata": {
    "vscode": {
     "languageId": "java"
    }
   },
   "outputs": [
    {
     "name": "stdout",
     "output_type": "stream",
     "text": [
      "Ja Morant has more points per game than Lamelo Ball\n"
     ]
    }
   ],
   "source": [
    "class NBAPlayer implements Comparable<NBAPlayer> {\n",
    "    private String name;\n",
    "    private int pointsPerGame;\n",
    "\n",
    "    public NBAPlayer(String name, int pointsPerGame) {\n",
    "        this.name = name;\n",
    "        this.pointsPerGame = pointsPerGame;\n",
    "    }\n",
    "\n",
    "    @Override\n",
    "    public int compareTo(NBAPlayer otherPlayer) {\n",
    "        return Integer.compare(this.pointsPerGame, otherPlayer.pointsPerGame);\n",
    "    }\n",
    "\n",
    "    public String getName() {\n",
    "        return name;\n",
    "    }\n",
    "\n",
    "    public int getPointsPerGame() {\n",
    "        return pointsPerGame;\n",
    "    }\n",
    "}\n",
    "\n",
    "public class Main {\n",
    "    public static void main(String[] args) {\n",
    "        NBAPlayer jaMorant = new NBAPlayer(\"Ja Morant\", 26);\n",
    "        NBAPlayer lameloBall = new NBAPlayer(\"Lamelo Ball\", 23);\n",
    "\n",
    "        int comparisonResult = jaMorant.compareTo(lameloBall);\n",
    "\n",
    "        if (comparisonResult < 0) {\n",
    "            System.out.println(jaMorant.getName() + \" has fewer points per game than \" + lameloBall.getName());\n",
    "        } else if (comparisonResult > 0) {\n",
    "            System.out.println(jaMorant.getName() + \" has more points per game than \" + lameloBall.getName());\n",
    "        } else {\n",
    "            System.out.println(jaMorant.getName() + \" and \" + lameloBall.getName() + \" have the same points per game.\");\n",
    "        }\n",
    "    }\n",
    "}\n",
    "Main.main(null);"
   ]
  },
  {
   "cell_type": "markdown",
   "metadata": {},
   "source": [
    "## BONUS: Create a program that checks if a year is a leap year or not.\n",
    "\n",
    "Here is how the method should work: \n",
    "\n",
    "(1) Prompt the user to input any year that they would like <br>\n",
    "(2) Determine if the year is a leap year or not <br>\n",
    "(3) Print the necessary dialogue (ex. [year] is/is not a leap year) AND return the value of any boolean(s) used"
   ]
  },
  {
   "cell_type": "code",
   "execution_count": 9,
   "metadata": {
    "vscode": {
     "languageId": "java"
    }
   },
   "outputs": [
    {
     "name": "stdout",
     "output_type": "stream",
     "text": [
      "Enter a year: "
     ]
    },
    {
     "name": "stdout",
     "output_type": "stream",
     "text": [
      "2024 is a leap year.\n",
      "Is it a leap year? true\n"
     ]
    }
   ],
   "source": [
    "import java.util.Scanner;\n",
    "\n",
    "public class LeapYear {\n",
    "    public static void main(String[] args) {\n",
    "        Scanner scanner = new Scanner(System.in);\n",
    "        System.out.print(\"Enter a year: \");\n",
    "        int yearInput = scanner.nextInt();\n",
    "        scanner.close();\n",
    "\n",
    "        boolean isLeapYear = isLeapYear(yearInput);\n",
    "\n",
    "        System.out.println(yearInput + (isLeapYear ? \" is\" : \" is not\") + \" a leap year.\");\n",
    "\n",
    "        System.out.println(\"Is it a leap year? \" + isLeapYear);\n",
    "    }\n",
    "\n",
    "    public static boolean isLeapYear(int year) {\n",
    "        return (year % 4 == 0 && year % 100 != 0) || (year % 400 == 0);\n",
    "    }\n",
    "}\n",
    "LeapYear.main(null);"
   ]
  },
  {
   "cell_type": "markdown",
   "metadata": {},
   "source": [
    "# Weird questions\n",
    "1. !(true)&&(false) = ? what in boolean values?\n",
    "\n",
    "!true (negation of true) = false. false && false = false. Thus, !(true) && (false) = false.\n",
    "\n",
    "2. not ((((true and not (false)) ^ false) ^ true) && false) (remember PEMDASNAO!)\n",
    "\n",
    "not (false) = true. true and true evaluates = true. (true ^ false) (XOR) = true. (true ^ true) (XOR) = false. (false && false) = false.\n",
    "Thus, not ((((true and not (false)) ^ false) ^ true) && false) = not false = true.\n",
    "\n",
    "3. 420 && 66 (Hint, convert to binary, then perform the operation)\n",
    "\n",
    "420 = 110100100 in binary and 66 in binary = 1000010.\n",
    "\n",
    "Thus, 420 && 66 = 000000000 = 0.\n",
    "\n",
    "   1. If you got this one, try 89 OR 42\n",
    "\n",
    "89 = 1011001 in binary and  42 in binary = 101010.\n",
    "\n",
    "Thus, 89 OR 42 = 1111011 = 123.\n"
   ]
  }
 ],
 "metadata": {
  "kernelspec": {
   "display_name": "Java",
   "language": "java",
   "name": "java"
  },
  "language_info": {
   "codemirror_mode": "java",
   "file_extension": ".jshell",
   "mimetype": "text/x-java-source",
   "name": "Java",
   "pygments_lexer": "java",
   "version": "11.0.20+8-post-Ubuntu-1ubuntu120.04"
  }
 },
 "nbformat": 4,
 "nbformat_minor": 2
}
